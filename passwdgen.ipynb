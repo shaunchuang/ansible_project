{
 "cells": [
  {
   "cell_type": "code",
   "execution_count": null,
   "id": "adf16524-4116-48f7-9f43-b6bba1be3fe9",
   "metadata": {},
   "outputs": [],
   "source": [
    "import pandas as pd\n",
    "import numpy as np"
   ]
  },
  {
   "cell_type": "code",
   "execution_count": null,
   "id": "279b7c79-810c-42d1-ba69-66caa86c428b",
   "metadata": {},
   "outputs": [],
   "source": [
    "df = pd.read_csv('/root/ansible/test.txt', header=None, sep='\\s', engine='python')\n",
    "df"
   ]
  },
  {
   "cell_type": "code",
   "execution_count": null,
   "id": "950f3a74-ba54-4c19-9783-f25e7f4cb6ea",
   "metadata": {},
   "outputs": [],
   "source": [
    "for i in range(len(df.index)):\n",
    "    df.iloc[i] = df.iloc[i].str.replace('\"', '!')"
   ]
  },
  {
   "cell_type": "code",
   "execution_count": null,
   "id": "be95233f-56b1-4faf-a056-6e84e34050c7",
   "metadata": {},
   "outputs": [],
   "source": [
    "for i in range(len(df.index)):\n",
    "    df.iloc[i] = df.iloc[i].str.replace('\\'', 'a')"
   ]
  },
  {
   "cell_type": "code",
   "execution_count": null,
   "id": "3944dadb-86ca-4c25-97eb-22ddddc7ac21",
   "metadata": {},
   "outputs": [],
   "source": [
    "for i in range(len(df.index)):\n",
    "    df.iloc[i] = df.iloc[i].str.replace('(', 'b', regex=False)"
   ]
  },
  {
   "cell_type": "code",
   "execution_count": null,
   "id": "f4e75ed3-72a2-4315-b039-281a22ac12fd",
   "metadata": {},
   "outputs": [],
   "source": [
    "for i in range(len(df.index)):\n",
    "    df.iloc[i] = df.iloc[i].str.replace(')', 'c', regex=False)"
   ]
  },
  {
   "cell_type": "code",
   "execution_count": null,
   "id": "a6be64e0-21d1-4e64-9626-1fa1703cf9fe",
   "metadata": {},
   "outputs": [],
   "source": [
    "for i in range(len(df.index)):\n",
    "    df.iloc[i] = df.iloc[i].str.replace('}', 'd', regex=False)"
   ]
  },
  {
   "cell_type": "code",
   "execution_count": null,
   "id": "2192e54e-e9dd-426c-b5c1-dbeb2f7df9ae",
   "metadata": {},
   "outputs": [],
   "source": [
    "for i in range(len(df.index)):\n",
    "    df.iloc[i] = df.iloc[i].str.replace('{', 'e', regex=False)"
   ]
  },
  {
   "cell_type": "code",
   "execution_count": null,
   "id": "cc654c5f-4415-4e71-a6d4-2ba736c273b6",
   "metadata": {},
   "outputs": [],
   "source": [
    "df"
   ]
  },
  {
   "cell_type": "code",
   "execution_count": null,
   "id": "38c006b9-e613-4cef-beaa-3cf9af75504c",
   "metadata": {},
   "outputs": [],
   "source": [
    "for a in range(len(df.index)):\n",
    "    file1 = open(\"passwd_file.txt\", \"a\")\n",
    "    for i in df.iloc[a].to_list():\n",
    "        if i :\n",
    "            file1.write(str(i) + \"\\n\")\n",
    "    file1.close()"
   ]
  }
 ],
 "metadata": {
  "kernelspec": {
   "display_name": "Python 3 (ipykernel)",
   "language": "python",
   "name": "python3"
  },
  "language_info": {
   "codemirror_mode": {
    "name": "ipython",
    "version": 3
   },
   "file_extension": ".py",
   "mimetype": "text/x-python",
   "name": "python",
   "nbconvert_exporter": "python",
   "pygments_lexer": "ipython3",
   "version": "3.8.10"
  }
 },
 "nbformat": 4,
 "nbformat_minor": 5
}
